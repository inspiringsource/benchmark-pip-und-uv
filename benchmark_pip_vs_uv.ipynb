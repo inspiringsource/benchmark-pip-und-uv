{
"nbformat": 4,
"nbformat_minor": 5,
"metadata": {
"kernelspec": { "display_name": "Python 3", "language": "python", "name": "python3" },
"language_info": { "name": "python", "version": "3.13" }
},
"cells": [
{
"cell_type": "markdown",
"metadata": {},
"source": [
"# Benchmarking pip vs uv auf M1 Mac\n",
"\n",
"Ziel:\n",
"Vergleiche Installationsgeschwindigkeit und Ressourcennutzung von pip install vs. uv pip sync in einem kleinen Beispielprojekt.\n",
"\n",
"Abhängigkeiten: numpy, pandas, click, pytest\n"
]
},
{
"cell_type": "code",
"execution_count": null,
"metadata": {},
"outputs": [],
"source": [
"import sys, os, subprocess, shutil, time\n",
"from pathlib import Path\n",
"import pandas as pd\n",
"import plotly.express as px\n",
"\n",
"# Stelle sicher, dass alle Abhängigkeiten installiert sind\n",
"for pkg in ["numpy", "pandas", "uv", "plotly"]:\n",
"    subprocess.run([sys.executable, "-m", "pip", "install", pkg], check=True)\n"
]
},
{
"cell_type": "code",
"execution_count": null,
"metadata": {},
"outputs": [],
"source": [
"def time_cmd(cmd):\n",
"    start = time.perf_counter()\n",
"    subprocess.run(cmd, check=True)\n",
"    return time.perf_counter() - start\n",
"\n",
"def venv_path(tool):\n",
"    return Path(f"venv-{tool}")\n",
"\n",
"def install_venv(tool):\n",
"    venv = venv_path(tool)\n",
"    if venv.exists():\n",
"        shutil.rmtree(venv)\n",
"    # Erstelle virtuelles Environment\n",
"    subprocess.run([sys.executable, "-m", "venv", str(venv)], check=True)\n",
"    pip_exe = venv / "bin/pip"\n",
"    if tool == "uv":\n",
"        subprocess.run([str(pip_exe), "install", "uv"], check=True)\n",
"    return pip_exe\n"
]
},
{
"cell_type": "code",
"execution_count": null,
"metadata": {},
"outputs": [],
"source": [
"# Benchmarks durchführen\n",
"results = []\n",
"iters = 3  # Anzahl Wiederholungen\n",
"for mode in ["cold", "warm"]:\n",
"    for tool in ["pip", "uv"]:\n",
"        times = []\n",
"        for _ in range(iters):\n",
"            pip_exe = install_venv(tool)\n",
"            if mode == "warm":  # erstes Aufwärmen\n",
"                subprocess.run([str(pip_exe), "install", "-r", "requirements.txt"], check=True)\n",
"            # Installationsbefehl wählen\n",
"            if tool == "pip":\n",
"                cmd = [str(pip_exe), "install", "-r", "requirements.txt"]\n",
"            else:\n",
"                cmd = [str(pip_exe.parent / "uv"), "pip", "sync", "requirements.txt"]\n",
"            t = time_cmd(cmd)\n",
"            times.append(t)\n",
"        mean = sum(times) / len(times)\n",
"        std = (sum((x-mean)**2 for x in times) / len(times))0.5\n",
"        results.append({"tool":tool, "mode":mode, "mean_time_s":mean, "std_time_s":std})\n",
"df = pd.DataFrame(results)\n",
"df\n"
]
},
{
"cell_type": "code",
"execution_count": null,
"metadata": {},
"outputs": [],
"source": [
"# Festplattennutzung messen\n",
"sizes = []\n",
"for tool in ["pip","uv"]:\n",
"    venv = venv_path(tool)\n",
"    if venv.exists():\n",
"        usage = shutil.disk_usage(venv)\n",
"        sizes.append({"tool":tool, "size_mb":usage.used/10242})\n",
"df_sizes = pd.DataFrame(sizes)\n",
"df_sizes\n"
]
},
{
"cell_type": "code",
"execution_count": null,
"metadata": {},
"outputs": [],
"source": [
"# Visualisierung mit Plotly\n",
"fig = px.bar(df, x="tool", y="mean_time_s", color="mode", barmode="group", error_y="std_time_s", title="pip vs uv: Installationszeiten")\n",
"fig.show()\n",
"\n",
"fig2 = px.bar(df_sizes, x="tool", y="size_mb", title="pip vs uv: Festplattennutzung")\n",
"fig2.show()\n"
]
},
{
"cell_type": "markdown",
"metadata": {},
"source": [
"## Ergebnisse & Fazit\n",
"| Tool | Modus | Mittelwert Zeit (s) | Stdabweichung (s) |\n",
"|------|-------|---------------------|-------------------|\n",
"| pip  | cold  |                     |                   |\n",
"| uv   | cold  |                     |                   |\n",
"| pip  | warm  |                     |                   |\n",
"| uv   | warm  |                     |                   |\n",
"\n",
"| Tool | Genutzter Speicher (MB) |\n",
"|------|-------------------------|\n",
"| pip  |                         |\n",
"| uv   |                         |\n",
"\n",
"Fazit:\n",
"Ergänze hier die wichtigsten Erkenntnisse und vergleiche die Performance zwischen macOS und Windows."
]
}
]
}

