{
"nbformat": 4,
"nbformat\_minor": 5,
"metadata": {
"kernelspec": {
"display\_name": "Python 3",
"language": "python",
"name": "python3"
},
"language\_info": {
"name": "python",
"version": "3.13"
}
},
"cells": \[
{
"cell\_type": "markdown",
"metadata": {},
"source": \[
"# Benchmarking pip vs uv auf M1 Mac\n",
"**Ziel:** Vergleiche Installationsgeschwindigkeit und Ressourcennutzung von `pip install` vs. `uv pip sync` in einem kleinen Beispielprojekt.\n",
"**Abhängigkeiten:** numpy, pandas, click, pytest\n"
]
},
{
"cell\_type": "code",
"metadata": {},
"execution\_count": null,
"outputs": \[],
"source": \[
"import sys, os, subprocess, shutil, time\n",
"from pathlib import Path\n",
"import pandas as pd\n",
"import plotly.express as px\n",
"# Abhängigkeiten installieren\n",
"for pkg in \['numpy','pandas','uv','plotly']: subprocess.run(\[sys.executable,'-m','pip','install',pkg],check=True)\n"
]
},
{
"cell\_type": "code",
"metadata": {},
"execution\_count": null,
"outputs": \[],
"source": \[
"def time\_cmd(cmd):\n",
"    start=time.perf\_counter()\n",
"    subprocess.run(cmd,check=True)\n",
"    return time.perf\_counter()-start\n",
"def venv\_path(tool): return Path(f"venv-{tool}")\n",
"def install\_venv(tool):\n",
"    venv=venv\_path(tool)\n",
"    if venv.exists(): shutil.rmtree(venv)\n",
"    subprocess.run(\[sys.executable,'-m','venv',str(venv)],check=True)\n",
"    pip\_exe=venv/('bin/pip')\n",
"    if tool=='uv': subprocess.run(\[str(pip\_exe),'install','uv'],check=True)\n",
"    return pip\_exe\n"
]
},
{
"cell\_type": "code",
"metadata": {},
"execution\_count": null,
"outputs": \[],
"source": \[
"# Benchmarks\n",
"results=\[]; iters=3\n",
"for mode in \['cold','warm']:\n",
"    for tool in \['pip','uv']:\n",
"        times=\[]\n",
"        for \_ in range(iters):\n",
"            pip\_exe=install\_venv(tool)\n",
"            if mode=='warm': subprocess.run(\[str(pip\_exe),'install','-r','requirements.txt'],check=True)\n",
"            if tool=='pip': cmd=\[str(pip\_exe),'install','-r','requirements.txt']\n",
"            else: cmd=\[str(pip\_exe.parent/'uv'),'pip','sync','requirements.txt']\n",
"            t=time\_cmd(cmd); times.append(t)\n",
"        mean=sum(times)/len(times); std=(sum((x-mean)\*\*2 for x in times)/len(times))**0.5\n",
"        results.append({'tool'\:tool,'mode'\:mode,'mean\_time\_s'\:mean,'std\_time\_s'\:std})\n",
"df=pd.DataFrame(results); df\n"
]
},
{
"cell\_type": "code",
"metadata": {},
"execution\_count": null,
"outputs": \[],
"source": \[
"# Festplattennutzung\n",
"sizes=\[]\n",
"for tool in \['pip','uv']:\n",
"    venv=venv\_path(tool)\n",
"    if venv.exists(): usage=shutil.disk\_usage(venv); sizes.append({'tool'\:tool,'size\_mb'\:usage.used/1024**2})\n",
"df\_sizes=pd.DataFrame(sizes); df\_sizes\n"
]
},
{
"cell\_type": "code",
"metadata": {},
"execution\_count": null,
"outputs": \[],
"source": \[
"# Visualisierung mit Plotly\n",
"fig=px.bar(df,x='tool',y='mean\_time\_s',color='mode',barmode='group',error\_y='std\_time\_s',title='pip vs uv: Installationszeiten')\n",
"fig.show()\n",
"fig2=px.bar(df\_sizes,x='tool',y='size\_mb',title='pip vs uv: Festplattennutzung')\n",
"fig2.show()\n"
]
},
{
"cell\_type": "markdown",
"metadata": {},
"source": \[
"## Ergebnisse & Fazit\n",
"| Tool | Modus | Mittelwert Zeit (s) | Stdabweichung (s) |\n",
"|------|-------|---------------------|-------------------|\n",
"| pip  | cold  |                     |                   |\n",
"| uv   | cold  |                     |                   |\n",
"| pip  | warm  |                     |                   |\n",
"| uv   | warm  |                     |                   |\n",
"\n",
"| Tool | Genutzter Speicher (MB) |\n",
"|------|-------------------------|\n",
"| pip  |                         |\n",
"| uv   |                         |\n",
"**Fazit:** Ergänze hier die wichtigsten Erkenntnisse und vergleiche macOS vs. Windows.\n"
]
}
]
}
