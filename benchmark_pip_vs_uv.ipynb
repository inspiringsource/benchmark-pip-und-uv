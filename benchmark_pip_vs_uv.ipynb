{
 "cells": [
  {
   "cell_type": "markdown",
   "metadata": {},
   "source": [
    "# Benchmark: pip vs uv on Mac M1\n",
    "\n",
    "This notebook benchmarks installation speed and memory/CPU usage for `pip` and `uv` using a set of common Python packages. Results are shown as tables and charts."
   ]
  },
  {
   "cell_type": "code",
   "metadata": {},
   "source": [
    "%pip install -q psutil matplotlib pandas"
   ],
   "execution_count": null,
   "outputs": []
  },
  {
   "cell_type": "code",
   "metadata": {},
   "source": [
    "import time\n",
    "import subprocess\n",
    "import psutil\n",
    "import pandas as pd\n",
    "import matplotlib.pyplot as plt\n",
    "from pathlib import Path\n",
    "from IPython.display import display\n",
    "\n",
    "COMMON_PACKAGES = [\n",
    "    'numpy', 'requests', 'pandas', 'scipy', 'flask'\n",
    "]\n",
    "\n",
    "def get_total_mem_and_cpu(proc):\n",
    "    mem = proc.memory_info().rss if proc.is_running() else 0\n",
    "    cpu = proc.cpu_percent(interval=0.1) if proc.is_running() else 0\n",
    "    for child in proc.children(recursive=True):\n",
    "        try:\n",
    "            if child.is_running():\n",
    "                mem += child.memory_info().rss\n",
    "                cpu += child.cpu_percent(interval=0.1)\n",
    "        except Exception:\n",
    "            pass\n",
    "    return mem / (1024*1024), cpu\n",
    "\n",
    "def run_with_resource_monitor(cmd, timeout=300):\n",
    "    process = subprocess.Popen(cmd, shell=True)\n",
    "    proc = psutil.Process(process.pid)\n",
    "    max_mem = 0\n",
    "    max_cpu = 0\n",
    "    start = time.time()\n",
    "    try:\n",
    "        while process.poll() is None:\n",
    "            mem, cpu = get_total_mem_and_cpu(proc)\n",
    "            if mem > max_mem:\n",
    "                max_mem = mem\n",
    "            if cpu > max_cpu:\n",
    "                max_cpu = cpu\n",
    "            time.sleep(0.1)\n",
    "            if time.time() - start > timeout:\n",
    "                process.kill()\n",
    "                raise TimeoutError(f\"Command timed out after {timeout}s\")\n",
    "        elapsed = time.time() - start\n",
    "    except Exception as e:\n",
    "        process.kill()\n",
    "        raise e\n",
    "    return elapsed, max_mem, max_cpu\n",
    "\n",
    "def benchmark_installer(installer, packages):\n",
    "    results = []\n",
    "    env_dir = Path(f\"/tmp/bench_{installer}\")\n",
    "    if env_dir.exists():\n",
    "        subprocess.run(f\"rm -rf {env_dir}\", shell=True)\n",
    "    subprocess.run(f\"python3 -m venv {env_dir}\", shell=True, check=True)\n",
    "    pybin = env_dir / 'bin' / 'python'\n",
    "    installer_bin = env_dir / 'bin' / installer\n",
    "    subprocess.run(f\"{pybin} -m pip install --upgrade pip\", shell=True, check=True)\n",
    "    if installer == 'uv':\n",
    "        subprocess.run(f\"{pybin} -m pip install uv\", shell=True, check=True)\n",
    "    for pkg in packages:\n",
    "        subprocess.run(f\"{pybin} -m pip uninstall -y {pkg}\", shell=True, stdout=subprocess.DEVNULL, stderr=subprocess.DEVNULL)\n",
    "        if installer == 'uv':\n",
    "            cmd = f\"{installer_bin} pip install {pkg}\"\n",
    "        else:\n",
    "            cmd = f\"{installer_bin} install {pkg}\"\n",
    "        try:\n",
    "            elapsed, max_mem, max_cpu = run_with_resource_monitor(cmd)\n",
    "            results.append({'package': pkg, 'time_sec': elapsed, 'max_mem_mb': max_mem, 'max_cpu_pct': max_cpu, 'error': None})\n",
    "        except Exception as e:\n",
    "            results.append({'package': pkg, 'time_sec': None, 'max_mem_mb': None, 'max_cpu_pct': None, 'error': str(e)})\n",
    "    return pd.DataFrame(results)"
   ],
   "execution_count": null,
   "outputs": []
  },
  {
   "cell_type": "code",
   "metadata": {},
   "source": [
    "pip_results = benchmark_installer('pip', COMMON_PACKAGES)\n",
    "uv_results = benchmark_installer('uv', COMMON_PACKAGES)"
   ],
   "execution_count": null,
   "outputs": []
  },
  {
   "cell_type": "markdown",
   "metadata": {},
   "source": [
    "## Results Table"
   ]
  },
  {
   "cell_type": "code",
   "metadata": {},
   "source": [
    "display(pip_results)\n",
    "display(uv_results)"
   ],
   "execution_count": null,
   "outputs": []
  },
  {
   "cell_type": "markdown",
   "metadata": {},
   "source": [
    "## Visual Comparison"
   ]
  },
  {
   "cell_type": "code",
   "metadata": {},
   "source": [
    "import numpy as np\n",
    "labels = COMMON_PACKAGES\n",
    "x = np.arange(len(labels))\n",
    "\n",
    "fig, axs = plt.subplots(1, 3, figsize=(18, 5))\n",
    "\n",
    "axs[0].bar(x - 0.2, pip_results['time_sec'], 0.4, label='pip')\n",
    "axs[0].bar(x + 0.2, uv_results['time_sec'], 0.4, label='uv')\n",
    "axs[0].set_ylabel('Install Time (s)')\n",
    "axs[0].set_xticks(x)\n",
    "axs[0].set_xticklabels(labels, rotation=45)\n",
    "axs[0].legend()\n",
    "axs[0].set_title('Installation Time')\n",
    "\n",
    "axs[1].bar(x - 0.2, pip_results['max_mem_mb'], 0.4, label='pip')\n",
    "axs[1].bar(x + 0.2, uv_results['max_mem_mb'], 0.4, label='uv')\n",
    "axs[1].set_ylabel('Max Memory Usage (MB)')\n",
    "axs[1].set_xticks(x)\n",
    "axs[1].set_xticklabels(labels, rotation=45)\n",
    "axs[1].legend()\n",
    "axs[1].set_title('Memory Usage')\n",
    "\n",
    "axs[2].bar(x - 0.2, pip_results['max_cpu_pct'], 0.4, label='pip')\n",
    "axs[2].bar(x + 0.2, uv_results['max_cpu_pct'], 0.4, label='uv')\n",
    "axs[2].set_ylabel('Max CPU (%)')\n",
    "axs[2].set_xticks(x)\n",
    "axs[2].set_xticklabels(labels, rotation=45)\n",
    "axs[2].legend()\n",
    "axs[2].set_title('CPU Usage')\n",
    "\n",
    "plt.tight_layout()\n",
    "plt.show()"
   ],
   "execution_count": null,
   "outputs": []
  }
 ],
 "metadata": {
  "kernelspec": {
   "display_name": "Python 3",
   "language": "python",
   "name": "python3"
  },
  "language_info": {
   "name": "python",
   "version": ""
  }
 },
 "nbformat": 4,
 "nbformat_minor": 5
}
