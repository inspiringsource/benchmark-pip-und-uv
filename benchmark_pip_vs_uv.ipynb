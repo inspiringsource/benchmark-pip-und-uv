{
 "cells": [
  {
   "cell_type": "markdown",
   "id": "83239219",
   "metadata": {},
   "source": [
    "# Benchmarking pip vs uv\n",
    "\n",
    "**Ziel:**\n",
    "Vergleiche die Installationsgeschwindigkeit und Ressourcennutzung von `pip install` vs. `uv pip sync` in einem kleinen Beispielprojekt.\n",
    "\n",
    "**Abhängigkeiten:** numpy, pandas, click, pytest"
   ]
  },
  {
   "cell_type": "code",
   "execution_count": 1,
   "id": "77ccc639",
   "metadata": {},
   "outputs": [
    {
     "name": "stdout",
     "output_type": "stream",
     "text": [
      "Collecting hyperfine\n",
      "  Downloading hyperfine-0.1.3-py3-none-any.whl.metadata (2.4 kB)\n",
      "Collecting iminuit>=2.24.0 (from hyperfine)\n",
      "  Downloading iminuit-2.31.1-cp312-cp312-win_amd64.whl.metadata (10 kB)\n",
      "Collecting jax>=0.4.30 (from hyperfine)\n",
      "  Downloading jax-0.6.0-py3-none-any.whl.metadata (22 kB)\n",
      "Collecting joblib>=1.2.0 (from hyperfine)\n",
      "  Downloading joblib-1.5.0-py3-none-any.whl.metadata (5.6 kB)\n",
      "Collecting numpy>=1.23.0 (from hyperfine)\n",
      "  Downloading numpy-2.2.5-cp312-cp312-win_amd64.whl.metadata (60 kB)\n",
      "     ---------------------------------------- 0.0/60.8 kB ? eta -:--:--\n",
      "     ---------------------------------------- 60.8/60.8 kB 1.6 MB/s eta 0:00:00\n",
      "Collecting pandas>=1.5.0 (from hyperfine)\n",
      "  Downloading pandas-2.2.3-cp312-cp312-win_amd64.whl.metadata (19 kB)\n",
      "Collecting scipy>=1.10.0 (from hyperfine)\n",
      "  Downloading scipy-1.15.3-cp312-cp312-win_amd64.whl.metadata (60 kB)\n",
      "     ---------------------------------------- 0.0/60.8 kB ? eta -:--:--\n",
      "     ---------------------------------------- 60.8/60.8 kB 3.2 MB/s eta 0:00:00\n",
      "Collecting jaxlib<=0.6.0,>=0.6.0 (from jax>=0.4.30->hyperfine)\n",
      "  Downloading jaxlib-0.6.0-cp312-cp312-win_amd64.whl.metadata (1.2 kB)\n",
      "Collecting ml_dtypes>=0.5.0 (from jax>=0.4.30->hyperfine)\n",
      "  Downloading ml_dtypes-0.5.1-cp312-cp312-win_amd64.whl.metadata (22 kB)\n",
      "Collecting opt_einsum (from jax>=0.4.30->hyperfine)\n",
      "  Downloading opt_einsum-3.4.0-py3-none-any.whl.metadata (6.3 kB)\n",
      "Requirement already satisfied: python-dateutil>=2.8.2 in c:\\users\\abb2k\\.conda\\envs\\env_name\\lib\\site-packages (from pandas>=1.5.0->hyperfine) (2.9.0.post0)\n",
      "Collecting pytz>=2020.1 (from pandas>=1.5.0->hyperfine)\n",
      "  Downloading pytz-2025.2-py2.py3-none-any.whl.metadata (22 kB)\n",
      "Collecting tzdata>=2022.7 (from pandas>=1.5.0->hyperfine)\n",
      "  Downloading tzdata-2025.2-py2.py3-none-any.whl.metadata (1.4 kB)\n",
      "Requirement already satisfied: six>=1.5 in c:\\users\\abb2k\\.conda\\envs\\env_name\\lib\\site-packages (from python-dateutil>=2.8.2->pandas>=1.5.0->hyperfine) (1.17.0)\n",
      "Downloading hyperfine-0.1.3-py3-none-any.whl (48 kB)\n",
      "   ---------------------------------------- 0.0/48.8 kB ? eta -:--:--\n",
      "   ---------------------------------------- 48.8/48.8 kB ? eta 0:00:00\n",
      "Downloading iminuit-2.31.1-cp312-cp312-win_amd64.whl (376 kB)\n",
      "   ---------------------------------------- 0.0/376.6 kB ? eta -:--:--\n",
      "   ------------------ -------------------- 174.1/376.6 kB 10.2 MB/s eta 0:00:01\n",
      "   ---------------------------------------  368.6/376.6 kB 4.6 MB/s eta 0:00:01\n",
      "   ---------------------------------------- 376.6/376.6 kB 3.9 MB/s eta 0:00:00\n",
      "Downloading jax-0.6.0-py3-none-any.whl (2.3 MB)\n",
      "   ---------------------------------------- 0.0/2.3 MB ? eta -:--:--\n",
      "   --------------- ------------------------ 0.9/2.3 MB 18.7 MB/s eta 0:00:01\n",
      "   --------------------------------- ------ 2.0/2.3 MB 25.3 MB/s eta 0:00:01\n",
      "   ---------------------------------------- 2.3/2.3 MB 18.6 MB/s eta 0:00:00\n",
      "Downloading joblib-1.5.0-py3-none-any.whl (307 kB)\n",
      "   ---------------------------------------- 0.0/307.7 kB ? eta -:--:--\n",
      "   ---------------------------------------- 307.7/307.7 kB ? eta 0:00:00\n",
      "Downloading numpy-2.2.5-cp312-cp312-win_amd64.whl (12.6 MB)\n",
      "   ---------------------------------------- 0.0/12.6 MB ? eta -:--:--\n",
      "   --- ------------------------------------ 1.2/12.6 MB 37.0 MB/s eta 0:00:01\n",
      "   --- ------------------------------------ 1.2/12.6 MB 15.4 MB/s eta 0:00:01\n",
      "   ----- ---------------------------------- 1.9/12.6 MB 15.1 MB/s eta 0:00:01\n",
      "   ------- -------------------------------- 2.4/12.6 MB 14.2 MB/s eta 0:00:01\n",
      "   --------- ------------------------------ 3.1/12.6 MB 14.1 MB/s eta 0:00:01\n",
      "   ------------ --------------------------- 3.8/12.6 MB 13.6 MB/s eta 0:00:01\n",
      "   --------------- ------------------------ 4.9/12.6 MB 15.7 MB/s eta 0:00:01\n",
      "   ------------------- -------------------- 6.2/12.6 MB 17.2 MB/s eta 0:00:01\n",
      "   ------------------------ --------------- 7.6/12.6 MB 18.7 MB/s eta 0:00:01\n",
      "   --------------------------- ------------ 8.7/12.6 MB 19.1 MB/s eta 0:00:01\n",
      "   ------------------------------- -------- 9.9/12.6 MB 19.9 MB/s eta 0:00:01\n",
      "   ----------------------------------- ---- 11.3/12.6 MB 19.8 MB/s eta 0:00:01\n",
      "   ---------------------------------------  12.6/12.6 MB 24.2 MB/s eta 0:00:01\n",
      "   ---------------------------------------  12.6/12.6 MB 24.2 MB/s eta 0:00:01\n",
      "   ---------------------------------------- 12.6/12.6 MB 20.5 MB/s eta 0:00:00\n",
      "Downloading pandas-2.2.3-cp312-cp312-win_amd64.whl (11.5 MB)\n",
      "   ---------------------------------------- 0.0/11.5 MB ? eta -:--:--\n",
      "   - -------------------------------------- 0.5/11.5 MB 16.2 MB/s eta 0:00:01\n",
      "   ----- ---------------------------------- 1.6/11.5 MB 20.3 MB/s eta 0:00:01\n",
      "   ------- -------------------------------- 2.3/11.5 MB 24.1 MB/s eta 0:00:01\n",
      "   -------- ------------------------------- 2.3/11.5 MB 14.9 MB/s eta 0:00:01\n",
      "   -------- ------------------------------- 2.5/11.5 MB 12.2 MB/s eta 0:00:01\n",
      "   --------- ------------------------------ 2.6/11.5 MB 11.2 MB/s eta 0:00:01\n",
      "   ----------- ---------------------------- 3.3/11.5 MB 11.1 MB/s eta 0:00:01\n",
      "   --------------- ------------------------ 4.3/11.5 MB 13.2 MB/s eta 0:00:01\n",
      "   ------------------- -------------------- 5.7/11.5 MB 15.2 MB/s eta 0:00:01\n",
      "   ----------------------- ---------------- 6.8/11.5 MB 16.1 MB/s eta 0:00:01\n",
      "   --------------------------- ------------ 7.8/11.5 MB 17.3 MB/s eta 0:00:01\n",
      "   ------------------------------ --------- 8.9/11.5 MB 17.7 MB/s eta 0:00:01\n",
      "   ---------------------------------- ----- 9.9/11.5 MB 18.6 MB/s eta 0:00:01\n",
      "   -------------------------------------- - 11.1/11.5 MB 19.3 MB/s eta 0:00:01\n",
      "   ---------------------------------------  11.5/11.5 MB 19.2 MB/s eta 0:00:01\n",
      "   ---------------------------------------- 11.5/11.5 MB 17.2 MB/s eta 0:00:00\n",
      "Downloading scipy-1.15.3-cp312-cp312-win_amd64.whl (41.0 MB)\n",
      "   ---------------------------------------- 0.0/41.0 MB ? eta -:--:--\n",
      "   - -------------------------------------- 1.4/41.0 MB 44.5 MB/s eta 0:00:01\n",
      "   -- ------------------------------------- 2.5/41.0 MB 31.0 MB/s eta 0:00:02\n",
      "   --- ------------------------------------ 3.9/41.0 MB 30.8 MB/s eta 0:00:02\n",
      "   ---- ----------------------------------- 5.0/41.0 MB 28.8 MB/s eta 0:00:02\n",
      "   ----- ---------------------------------- 6.1/41.0 MB 29.7 MB/s eta 0:00:02\n",
      "   ------ --------------------------------- 7.1/41.0 MB 28.4 MB/s eta 0:00:02\n",
      "   -------- ------------------------------- 8.4/41.0 MB 28.2 MB/s eta 0:00:02\n",
      "   --------- ------------------------------ 9.8/41.0 MB 28.3 MB/s eta 0:00:02\n",
      "   ---------- ----------------------------- 11.2/41.0 MB 27.3 MB/s eta 0:00:02\n",
      "   ------------ --------------------------- 12.5/41.0 MB 27.3 MB/s eta 0:00:02\n",
      "   ------------- -------------------------- 13.9/41.0 MB 28.4 MB/s eta 0:00:01\n",
      "   -------------- ------------------------- 15.2/41.0 MB 27.3 MB/s eta 0:00:01\n",
      "   ---------------- ----------------------- 16.6/41.0 MB 26.2 MB/s eta 0:00:01\n",
      "   ----------------- ---------------------- 17.9/41.0 MB 28.5 MB/s eta 0:00:01\n",
      "   ------------------ --------------------- 19.4/41.0 MB 27.3 MB/s eta 0:00:01\n",
      "   -------------------- ------------------- 20.7/41.0 MB 28.4 MB/s eta 0:00:01\n",
      "   --------------------- ------------------ 22.1/41.0 MB 27.3 MB/s eta 0:00:01\n",
      "   ---------------------- ----------------- 23.1/41.0 MB 27.3 MB/s eta 0:00:01\n",
      "   ----------------------- ---------------- 24.4/41.0 MB 27.3 MB/s eta 0:00:01\n",
      "   ------------------------- -------------- 25.7/41.0 MB 27.3 MB/s eta 0:00:01\n",
      "   -------------------------- ------------- 27.0/41.0 MB 27.3 MB/s eta 0:00:01\n",
      "   --------------------------- ------------ 28.0/41.0 MB 27.3 MB/s eta 0:00:01\n",
      "   ---------------------------- ----------- 29.4/41.0 MB 28.5 MB/s eta 0:00:01\n",
      "   ----------------------------- ---------- 30.4/41.0 MB 27.3 MB/s eta 0:00:01\n",
      "   ------------------------------ --------- 31.7/41.0 MB 27.3 MB/s eta 0:00:01\n",
      "   -------------------------------- ------- 33.1/41.0 MB 27.3 MB/s eta 0:00:01\n",
      "   --------------------------------- ------ 34.4/41.0 MB 27.3 MB/s eta 0:00:01\n",
      "   ---------------------------------- ----- 35.5/41.0 MB 27.3 MB/s eta 0:00:01\n",
      "   ----------------------------------- ---- 36.8/41.0 MB 27.3 MB/s eta 0:00:01\n",
      "   ------------------------------------- -- 38.1/41.0 MB 27.3 MB/s eta 0:00:01\n",
      "   -------------------------------------- - 39.1/41.0 MB 27.3 MB/s eta 0:00:01\n",
      "   ---------------------------------------  40.4/41.0 MB 27.3 MB/s eta 0:00:01\n",
      "   ---------------------------------------  41.0/41.0 MB 26.2 MB/s eta 0:00:01\n",
      "   ---------------------------------------  41.0/41.0 MB 26.2 MB/s eta 0:00:01\n",
      "   ---------------------------------------  41.0/41.0 MB 26.2 MB/s eta 0:00:01\n",
      "   ---------------------------------------- 41.0/41.0 MB 19.8 MB/s eta 0:00:00\n",
      "Downloading jaxlib-0.6.0-cp312-cp312-win_amd64.whl (56.4 MB)\n",
      "   ---------------------------------------- 0.0/56.4 MB ? eta -:--:--\n",
      "    --------------------------------------- 1.1/56.4 MB 35.3 MB/s eta 0:00:02\n",
      "   - -------------------------------------- 2.4/56.4 MB 30.9 MB/s eta 0:00:02\n",
      "   -- ------------------------------------- 3.4/56.4 MB 31.4 MB/s eta 0:00:02\n",
      "   --- ------------------------------------ 4.8/56.4 MB 27.9 MB/s eta 0:00:02\n",
      "   ---- ----------------------------------- 5.8/56.4 MB 28.6 MB/s eta 0:00:02\n",
      "   ----- ---------------------------------- 7.1/56.4 MB 28.3 MB/s eta 0:00:02\n",
      "   ----- ---------------------------------- 8.4/56.4 MB 28.4 MB/s eta 0:00:02\n",
      "   ------ --------------------------------- 9.8/56.4 MB 28.4 MB/s eta 0:00:02\n",
      "   ------- -------------------------------- 11.0/56.4 MB 27.3 MB/s eta 0:00:02\n",
      "   -------- ------------------------------- 12.1/56.4 MB 27.3 MB/s eta 0:00:02\n",
      "   --------- ------------------------------ 13.2/56.4 MB 27.3 MB/s eta 0:00:02\n",
      "   ---------- ----------------------------- 14.4/56.4 MB 27.3 MB/s eta 0:00:02\n",
      "   ----------- ---------------------------- 15.7/56.4 MB 27.3 MB/s eta 0:00:02\n",
      "   ----------- ---------------------------- 16.8/56.4 MB 26.2 MB/s eta 0:00:02\n",
      "   ------------ --------------------------- 18.1/56.4 MB 27.3 MB/s eta 0:00:02\n",
      "   ------------- -------------------------- 19.4/56.4 MB 26.2 MB/s eta 0:00:02\n",
      "   -------------- ------------------------- 20.5/56.4 MB 27.3 MB/s eta 0:00:02\n",
      "   --------------- ------------------------ 21.6/56.4 MB 27.3 MB/s eta 0:00:02\n",
      "   ---------------- ----------------------- 22.9/56.4 MB 27.3 MB/s eta 0:00:02\n",
      "   ----------------- ---------------------- 24.0/56.4 MB 28.5 MB/s eta 0:00:02\n",
      "   ----------------- ---------------------- 25.3/56.4 MB 28.5 MB/s eta 0:00:02\n",
      "   ------------------ --------------------- 26.6/56.4 MB 28.5 MB/s eta 0:00:02\n",
      "   ------------------- -------------------- 27.6/56.4 MB 27.3 MB/s eta 0:00:02\n",
      "   -------------------- ------------------- 28.9/56.4 MB 27.3 MB/s eta 0:00:02\n",
      "   --------------------- ------------------ 29.9/56.4 MB 27.3 MB/s eta 0:00:01\n",
      "   ---------------------- ----------------- 31.1/56.4 MB 27.3 MB/s eta 0:00:01\n",
      "   ---------------------- ----------------- 32.0/56.4 MB 27.3 MB/s eta 0:00:01\n",
      "   ----------------------- ---------------- 33.4/56.4 MB 26.2 MB/s eta 0:00:01\n",
      "   ------------------------ --------------- 34.8/56.4 MB 27.3 MB/s eta 0:00:01\n",
      "   ------------------------- -------------- 36.1/56.4 MB 27.3 MB/s eta 0:00:01\n",
      "   -------------------------- ------------- 37.7/56.4 MB 26.2 MB/s eta 0:00:01\n",
      "   --------------------------- ------------ 38.9/56.4 MB 26.2 MB/s eta 0:00:01\n",
      "   ---------------------------- ----------- 40.2/56.4 MB 26.2 MB/s eta 0:00:01\n",
      "   ----------------------------- ---------- 41.6/56.4 MB 27.3 MB/s eta 0:00:01\n",
      "   ------------------------------ --------- 42.6/56.4 MB 27.3 MB/s eta 0:00:01\n",
      "   ------------------------------- -------- 43.9/56.4 MB 27.3 MB/s eta 0:00:01\n",
      "   -------------------------------- ------- 45.2/56.4 MB 27.3 MB/s eta 0:00:01\n",
      "   --------------------------------- ------ 46.6/56.4 MB 28.4 MB/s eta 0:00:01\n",
      "   --------------------------------- ------ 47.9/56.4 MB 28.5 MB/s eta 0:00:01\n",
      "   ---------------------------------- ----- 49.2/56.4 MB 28.5 MB/s eta 0:00:01\n",
      "   ----------------------------------- ---- 50.5/56.4 MB 28.5 MB/s eta 0:00:01\n",
      "   ------------------------------------ --- 51.7/56.4 MB 28.5 MB/s eta 0:00:01\n",
      "   ------------------------------------- -- 53.0/56.4 MB 28.5 MB/s eta 0:00:01\n",
      "   -------------------------------------- - 54.3/56.4 MB 28.4 MB/s eta 0:00:01\n",
      "   ---------------------------------------  55.6/56.4 MB 27.3 MB/s eta 0:00:01\n",
      "   ---------------------------------------  56.4/56.4 MB 27.3 MB/s eta 0:00:01\n",
      "   ---------------------------------------  56.4/56.4 MB 27.3 MB/s eta 0:00:01\n",
      "   ---------------------------------------  56.4/56.4 MB 27.3 MB/s eta 0:00:01\n",
      "   ---------------------------------------  56.4/56.4 MB 27.3 MB/s eta 0:00:01\n",
      "   ---------------------------------------- 56.4/56.4 MB 19.2 MB/s eta 0:00:00\n",
      "Downloading ml_dtypes-0.5.1-cp312-cp312-win_amd64.whl (210 kB)\n",
      "   ---------------------------------------- 0.0/210.9 kB ? eta -:--:--\n",
      "   --------------------------------------- 210.9/210.9 kB 12.5 MB/s eta 0:00:00\n",
      "Downloading pytz-2025.2-py2.py3-none-any.whl (509 kB)\n",
      "   ---------------------------------------- 0.0/509.2 kB ? eta -:--:--\n",
      "   --------------------------------------- 509.2/509.2 kB 31.2 MB/s eta 0:00:00\n",
      "Downloading tzdata-2025.2-py2.py3-none-any.whl (347 kB)\n",
      "   ---------------------------------------- 0.0/347.8 kB ? eta -:--:--\n",
      "   --------------------------------------- 347.8/347.8 kB 10.9 MB/s eta 0:00:00\n",
      "Downloading opt_einsum-3.4.0-py3-none-any.whl (71 kB)\n",
      "   ---------------------------------------- 0.0/71.9 kB ? eta -:--:--\n",
      "   ---------------------------------------- 71.9/71.9 kB 3.9 MB/s eta 0:00:00\n",
      "Installing collected packages: pytz, tzdata, opt_einsum, numpy, joblib, scipy, pandas, ml_dtypes, iminuit, jaxlib, jax, hyperfine\n",
      "Successfully installed hyperfine-0.1.3 iminuit-2.31.1 jax-0.6.0 jaxlib-0.6.0 joblib-1.5.0 ml_dtypes-0.5.1 numpy-2.2.5 opt_einsum-3.4.0 pandas-2.2.3 pytz-2025.2 scipy-1.15.3 tzdata-2025.2\n"
     ]
    },
    {
     "name": "stderr",
     "output_type": "stream",
     "text": [
      "  WARNING: The scripts f2py.exe and numpy-config.exe are installed in 'C:\\Users\\abb2k\\AppData\\Roaming\\Python\\Python312\\Scripts' which is not on PATH.\n",
      "  Consider adding this directory to PATH or, if you prefer to suppress this warning, use --no-warn-script-location.\n"
     ]
    }
   ],
   "source": [
    "!pip install --user hyperfine"
   ]
  },
  {
   "cell_type": "code",
   "execution_count": null,
   "id": "4fcbd633",
   "metadata": {},
   "outputs": [],
   "source": [
    "# Unix-Umgebungsvariablen setzen\n",
    "%%bash\n",
    "# Erstelle requirements.txt\n",
    "cat > requirements.txt << 'EOF'\n",
    "numpy\n",
    "pandas\n",
    "click\n",
    "pytest\n",
    "EOF\n",
    "\n",
    "echo 'requirements.txt erstellt:'\n",
    "cat requirements.txt"
   ]
  },
  {
   "cell_type": "code",
   "execution_count": 3,
   "id": "935703f2",
   "metadata": {},
   "outputs": [
    {
     "name": "stdout",
     "output_type": "stream",
     "text": [
      "requirements.txt erstellt:\n",
      "numpy\n",
      "pandas\n",
      "click\n",
      "pytest\n"
     ]
    }
   ],
   "source": [
    "# Windows-Umgebungsvariablen setzen\n",
    "# Zelle als “Code” (Python-Kernel)\n",
    "requirements = [\"numpy\", \"pandas\", \"click\", \"pytest\"]\n",
    "\n",
    "with open(\"requirements.txt\", \"w\") as f:\n",
    "    f.write(\"\\n\".join(requirements))\n",
    "\n",
    "print(\"requirements.txt erstellt:\")\n",
    "print(open(\"requirements.txt\").read())\n"
   ]
  },
  {
   "cell_type": "code",
   "execution_count": null,
   "id": "e5aa0020",
   "metadata": {},
   "outputs": [],
   "source": [
    "# Nur auf Unix\n",
    "%%bash\n",
    "# Benchmark: Kalte Installation\n",
    "hyperfine \\\n",
    "  --warmup 2 \\\n",
    "  --prepare 'rm -rf venv-pip && python3 -m venv venv-pip' \\\n",
    "  'venv-pip/bin/pip install -r requirements.txt' \\\n",
    "  --prepare 'rm -rf venv-uv && python3 -m venv venv-uv && pip install uv' \\\n",
    "  'venv-uv/bin/uv pip sync requirements.txt' \\\n",
    "  --export-csv cold_installs.csv"
   ]
  },
  {
   "cell_type": "code",
   "execution_count": null,
   "id": "4d9e7fce",
   "metadata": {},
   "outputs": [],
   "source": [
    "# Nur auf Unix\n",
    "%%bash\n",
    "# Benchmark: Warme Installation\n",
    "hyperfine \\\n",
    "  --warmup 1 \\\n",
    "  --prepare 'rm -rf venv-pip && python3 -m venv venv-pip && venv-pip/bin/pip install -r requirements.txt' \\\n",
    "  'venv-pip/bin/pip install -r requirements.txt' \\\n",
    "  --prepare 'rm -rf venv-uv && python3 -m venv venv-uv && pip install uv && venv-uv/bin/uv pip sync requirements.txt' \\\n",
    "  'venv-uv/bin/uv pip sync requirements.txt' \\\n",
    "  --export-csv warm_installs.csv"
   ]
  },
  {
   "cell_type": "code",
   "execution_count": null,
   "id": "b34f9423",
   "metadata": {},
   "outputs": [],
   "source": [
    "# Nur auf Unix\n",
    "%%bash\n",
    "# Vergleich der Speicherbelegung\n",
    "du -sh venv-pip venv-uv > disk_usage.txt\n",
    "\n",
    "echo 'Festplattennutzung:'\n",
    "cat disk_usage.txt"
   ]
  },
  {
   "cell_type": "code",
   "execution_count": null,
   "id": "92f14e64",
   "metadata": {},
   "outputs": [],
   "source": [
    "# Unix code \n",
    "import pandas as pd\n",
    "import matplotlib.pyplot as plt\n",
    "\n",
    "# CSVs einlesen\n",
    "cold = pd.read_csv('cold_installs.csv')\n",
    "warm = pd.read_csv('warm_installs.csv')\n",
    "\n",
    "# Kalte Installation\n",
    "plt.figure()\n",
    "plt.bar(['pip','uv'], cold['mean'])\n",
    "plt.ylabel('Zeit (s)')\n",
    "plt.title('Kalte Installationszeit')\n",
    "plt.show()\n",
    "\n",
    "# Warme Installation\n",
    "plt.figure()\n",
    "plt.bar(['pip','uv'], warm['mean'])\n",
    "plt.ylabel('Zeit (s)')\n",
    "plt.title('Warme Installationszeit')\n",
    "plt.show()"
   ]
  },
  {
   "cell_type": "code",
   "execution_count": 6,
   "id": "97e75b4e",
   "metadata": {},
   "outputs": [
    {
     "name": "stdout",
     "output_type": "stream",
     "text": [
      "Kalte Installation (pip): 43.30 s\n",
      "Kalte Installation (uv) : 8.89 s\n",
      "Warme Installation (pip): 1.41 s\n",
      "Warme Installation (uv) : 0.03 s\n"
     ]
    }
   ],
   "source": [
    "# Widnows Zelle ersetzen (Code, Python-Kernel)\n",
    "\n",
    "import subprocess, shutil, time\n",
    "from pathlib import Path\n",
    "\n",
    "def time_cmd(cmd, shell=False):\n",
    "    \"\"\"Führt `cmd` aus und gibt die Dauer in Sekunden zurück.\"\"\"\n",
    "    start = time.perf_counter()\n",
    "    subprocess.run(cmd, shell=shell, check=True)\n",
    "    return time.perf_counter() - start\n",
    "\n",
    "# 1) Kalte Installation mit pip\n",
    "if Path(\"venv-pip\").exists():\n",
    "    shutil.rmtree(\"venv-pip\")\n",
    "time_cmd([\"python\", \"-m\", \"venv\", \"venv-pip\"])\n",
    "t_pip_cold = time_cmd([\"venv-pip\\\\Scripts\\\\pip\", \"install\", \"-r\", \"requirements.txt\"])\n",
    "\n",
    "# 2) Kalte Installation mit uv\n",
    "if Path(\"venv-uv\").exists():\n",
    "    shutil.rmtree(\"venv-uv\")\n",
    "time_cmd([\"python\", \"-m\", \"venv\", \"venv-uv\"])\n",
    "# uv muss erst installiert werden:\n",
    "time_cmd([\"venv-uv\\\\Scripts\\\\pip\", \"install\", \"uv\"])\n",
    "t_uv_cold = time_cmd([\"venv-uv\\\\Scripts\\\\uv\", \"pip\", \"sync\", \"requirements.txt\"])\n",
    "\n",
    "# 3) Warme Installationen\n",
    "t_pip_warm = time_cmd([\"venv-pip\\\\Scripts\\\\pip\", \"install\", \"-r\", \"requirements.txt\"])\n",
    "t_uv_warm = time_cmd([\"venv-uv\\\\Scripts\\\\uv\", \"pip\", \"sync\", \"requirements.txt\"])\n",
    "\n",
    "# Ergebnisse ausgeben\n",
    "print(f\"Kalte Installation (pip): {t_pip_cold:.2f} s\")\n",
    "print(f\"Kalte Installation (uv) : {t_uv_cold:.2f} s\")\n",
    "print(f\"Warme Installation (pip): {t_pip_warm:.2f} s\")\n",
    "print(f\"Warme Installation (uv) : {t_uv_warm:.2f} s\")\n"
   ]
  },
  {
   "cell_type": "code",
   "execution_count": 8,
   "id": "c59f3cc8",
   "metadata": {},
   "outputs": [
    {
     "name": "stdout",
     "output_type": "stream",
     "text": [
      "Requirement already satisfied: pandas in c:\\users\\abb2k\\appdata\\roaming\\python\\python312\\site-packages (2.2.3)\n",
      "Requirement already satisfied: pytz in c:\\users\\abb2k\\appdata\\roaming\\python\\python312\\site-packages (2025.2)\n",
      "Collecting python-dateutil\n",
      "  Downloading python_dateutil-2.9.0.post0-py2.py3-none-any.whl.metadata (8.4 kB)\n",
      "Requirement already satisfied: numpy>=1.26.0 in c:\\users\\abb2k\\appdata\\roaming\\python\\python312\\site-packages (from pandas) (2.2.5)\n",
      "Requirement already satisfied: tzdata>=2022.7 in c:\\users\\abb2k\\appdata\\roaming\\python\\python312\\site-packages (from pandas) (2025.2)\n",
      "Collecting six>=1.5 (from python-dateutil)\n",
      "  Downloading six-1.17.0-py2.py3-none-any.whl.metadata (1.7 kB)\n",
      "Downloading python_dateutil-2.9.0.post0-py2.py3-none-any.whl (229 kB)\n",
      "   ---------------------------------------- 0.0/229.9 kB ? eta -:--:--\n",
      "   - -------------------------------------- 10.2/229.9 kB ? eta -:--:--\n",
      "   ------ -------------------------------- 41.0/229.9 kB 653.6 kB/s eta 0:00:01\n",
      "   ---------------------------------------  225.3/229.9 kB 2.3 MB/s eta 0:00:01\n",
      "   ---------------------------------------- 229.9/229.9 kB 2.0 MB/s eta 0:00:00\n",
      "Downloading six-1.17.0-py2.py3-none-any.whl (11 kB)\n",
      "Installing collected packages: six, python-dateutil\n",
      "Successfully installed python-dateutil-2.9.0.post0 six-1.17.0\n"
     ]
    },
    {
     "name": "stderr",
     "output_type": "stream",
     "text": [
      "Error processing line 1 of C:\\Users\\abb2k\\.conda\\envs\\env_name\\Lib\\site-packages\\distutils-precedence.pth:\n",
      "\n",
      "  Traceback (most recent call last):\n",
      "    File \"<frozen site>\", line 186, in addpackage\n",
      "    File \"<string>\", line 1, in <module>\n",
      "  ModuleNotFoundError: No module named '_distutils_hack'\n",
      "\n",
      "Remainder of file ignored\n"
     ]
    }
   ],
   "source": [
    "# Zelle als “Code” mit Bash-Magic\n",
    "!pip install pandas pytz python-dateutil"
   ]
  },
  {
   "cell_type": "code",
   "execution_count": 11,
   "id": "3ce7d948",
   "metadata": {},
   "outputs": [
    {
     "name": "stdout",
     "output_type": "stream",
     "text": [
      "Requirement already satisfied: pandas in c:\\users\\abb2k\\appdata\\roaming\\python\\python312\\site-packages (2.2.3)\n",
      "Requirement already satisfied: pytz in c:\\users\\abb2k\\appdata\\roaming\\python\\python312\\site-packages (2025.2)\n",
      "Requirement already satisfied: python-dateutil in c:\\users\\abb2k\\.conda\\envs\\env_name\\lib\\site-packages (2.9.0.post0)\n",
      "Requirement already satisfied: numpy>=1.26.0 in c:\\users\\abb2k\\appdata\\roaming\\python\\python312\\site-packages (from pandas) (2.2.5)\n",
      "Requirement already satisfied: tzdata>=2022.7 in c:\\users\\abb2k\\appdata\\roaming\\python\\python312\\site-packages (from pandas) (2025.2)\n",
      "Requirement already satisfied: six>=1.5 in c:\\users\\abb2k\\.conda\\envs\\env_name\\lib\\site-packages (from python-dateutil) (1.17.0)\n"
     ]
    },
    {
     "name": "stderr",
     "output_type": "stream",
     "text": [
      "Error processing line 1 of c:\\Users\\abb2k\\.conda\\envs\\env_name\\Lib\\site-packages\\distutils-precedence.pth:\n",
      "\n",
      "  Traceback (most recent call last):\n",
      "    File \"<frozen site>\", line 186, in addpackage\n",
      "    File \"<string>\", line 1, in <module>\n",
      "  ModuleNotFoundError: No module named '_distutils_hack'\n",
      "\n",
      "Remainder of file ignored\n"
     ]
    }
   ],
   "source": [
    "import sys\n",
    "!{sys.executable} -m pip install pandas pytz python-dateutil\n"
   ]
  },
  {
   "cell_type": "code",
   "execution_count": 13,
   "id": "37e469f6",
   "metadata": {},
   "outputs": [
    {
     "ename": "ImportError",
     "evalue": "Unable to import required dependencies:\npytz: No module named 'pytz'",
     "output_type": "error",
     "traceback": [
      "\u001b[31m---------------------------------------------------------------------------\u001b[39m",
      "\u001b[31mImportError\u001b[39m                               Traceback (most recent call last)",
      "\u001b[36mCell\u001b[39m\u001b[36m \u001b[39m\u001b[32mIn[13]\u001b[39m\u001b[32m, line 1\u001b[39m\n\u001b[32m----> \u001b[39m\u001b[32m1\u001b[39m \u001b[38;5;28;01mimport\u001b[39;00m\u001b[38;5;250m \u001b[39m\u001b[34;01msubprocess\u001b[39;00m,\u001b[38;5;250m \u001b[39m\u001b[34;01mtime\u001b[39;00m,\u001b[38;5;250m \u001b[39m\u001b[34;01mpandas\u001b[39;00m\u001b[38;5;250m \u001b[39m\u001b[38;5;28;01mas\u001b[39;00m\u001b[38;5;250m \u001b[39m\u001b[34;01mpd\u001b[39;00m\n",
      "\u001b[36mFile \u001b[39m\u001b[32mc:\\Users\\abb2k\\.conda\\envs\\env_name\\Lib\\site-packages\\pandas\\__init__.py:32\u001b[39m\n\u001b[32m     29\u001b[39m         _missing_dependencies.append(\u001b[33mf\u001b[39m\u001b[33m\"\u001b[39m\u001b[38;5;132;01m{\u001b[39;00m_dependency\u001b[38;5;132;01m}\u001b[39;00m\u001b[33m: \u001b[39m\u001b[38;5;132;01m{\u001b[39;00m_e\u001b[38;5;132;01m}\u001b[39;00m\u001b[33m\"\u001b[39m)\n\u001b[32m     31\u001b[39m \u001b[38;5;28;01mif\u001b[39;00m _missing_dependencies:  \u001b[38;5;66;03m# pragma: no cover\u001b[39;00m\n\u001b[32m---> \u001b[39m\u001b[32m32\u001b[39m     \u001b[38;5;28;01mraise\u001b[39;00m \u001b[38;5;167;01mImportError\u001b[39;00m(\n\u001b[32m     33\u001b[39m         \u001b[33m\"\u001b[39m\u001b[33mUnable to import required dependencies:\u001b[39m\u001b[38;5;130;01m\\n\u001b[39;00m\u001b[33m\"\u001b[39m + \u001b[33m\"\u001b[39m\u001b[38;5;130;01m\\n\u001b[39;00m\u001b[33m\"\u001b[39m.join(_missing_dependencies)\n\u001b[32m     34\u001b[39m     )\n\u001b[32m     35\u001b[39m \u001b[38;5;28;01mdel\u001b[39;00m _hard_dependencies, _dependency, _missing_dependencies\n\u001b[32m     37\u001b[39m \u001b[38;5;28;01mtry\u001b[39;00m:\n\u001b[32m     38\u001b[39m     \u001b[38;5;66;03m# numpy compat\u001b[39;00m\n",
      "\u001b[31mImportError\u001b[39m: Unable to import required dependencies:\npytz: No module named 'pytz'"
     ]
    }
   ],
   "source": [
    "import subprocess, time, pandas as pd\n"
   ]
  },
  {
   "cell_type": "code",
   "execution_count": 12,
   "id": "05d4f4eb",
   "metadata": {},
   "outputs": [
    {
     "ename": "ImportError",
     "evalue": "Unable to import required dependencies:\npytz: No module named 'pytz'",
     "output_type": "error",
     "traceback": [
      "\u001b[31m---------------------------------------------------------------------------\u001b[39m",
      "\u001b[31mImportError\u001b[39m                               Traceback (most recent call last)",
      "\u001b[36mCell\u001b[39m\u001b[36m \u001b[39m\u001b[32mIn[12]\u001b[39m\u001b[32m, line 1\u001b[39m\n\u001b[32m----> \u001b[39m\u001b[32m1\u001b[39m \u001b[38;5;28;01mimport\u001b[39;00m\u001b[38;5;250m \u001b[39m\u001b[34;01msubprocess\u001b[39;00m,\u001b[38;5;250m \u001b[39m\u001b[34;01mtime\u001b[39;00m,\u001b[38;5;250m \u001b[39m\u001b[34;01mpandas\u001b[39;00m\u001b[38;5;250m \u001b[39m\u001b[38;5;28;01mas\u001b[39;00m\u001b[38;5;250m \u001b[39m\u001b[34;01mpd\u001b[39;00m\n\u001b[32m      3\u001b[39m \u001b[38;5;28;01mdef\u001b[39;00m\u001b[38;5;250m \u001b[39m\u001b[34mtime_cmd\u001b[39m(cmd):\n\u001b[32m      4\u001b[39m     start = time.perf_counter()\n",
      "\u001b[36mFile \u001b[39m\u001b[32mc:\\Users\\abb2k\\.conda\\envs\\env_name\\Lib\\site-packages\\pandas\\__init__.py:32\u001b[39m\n\u001b[32m     29\u001b[39m         _missing_dependencies.append(\u001b[33mf\u001b[39m\u001b[33m\"\u001b[39m\u001b[38;5;132;01m{\u001b[39;00m_dependency\u001b[38;5;132;01m}\u001b[39;00m\u001b[33m: \u001b[39m\u001b[38;5;132;01m{\u001b[39;00m_e\u001b[38;5;132;01m}\u001b[39;00m\u001b[33m\"\u001b[39m)\n\u001b[32m     31\u001b[39m \u001b[38;5;28;01mif\u001b[39;00m _missing_dependencies:  \u001b[38;5;66;03m# pragma: no cover\u001b[39;00m\n\u001b[32m---> \u001b[39m\u001b[32m32\u001b[39m     \u001b[38;5;28;01mraise\u001b[39;00m \u001b[38;5;167;01mImportError\u001b[39;00m(\n\u001b[32m     33\u001b[39m         \u001b[33m\"\u001b[39m\u001b[33mUnable to import required dependencies:\u001b[39m\u001b[38;5;130;01m\\n\u001b[39;00m\u001b[33m\"\u001b[39m + \u001b[33m\"\u001b[39m\u001b[38;5;130;01m\\n\u001b[39;00m\u001b[33m\"\u001b[39m.join(_missing_dependencies)\n\u001b[32m     34\u001b[39m     )\n\u001b[32m     35\u001b[39m \u001b[38;5;28;01mdel\u001b[39;00m _hard_dependencies, _dependency, _missing_dependencies\n\u001b[32m     37\u001b[39m \u001b[38;5;28;01mtry\u001b[39;00m:\n\u001b[32m     38\u001b[39m     \u001b[38;5;66;03m# numpy compat\u001b[39;00m\n",
      "\u001b[31mImportError\u001b[39m: Unable to import required dependencies:\npytz: No module named 'pytz'"
     ]
    }
   ],
   "source": [
    "import subprocess, time, pandas as pd\n",
    "\n",
    "def time_cmd(cmd):\n",
    "    start = time.perf_counter()\n",
    "    subprocess.run(cmd, check=True)\n",
    "    return time.perf_counter() - start\n",
    "\n",
    "results = []\n",
    "for _ in range(5):  # fünf Wiederholungen\n",
    "    # pip kalt\n",
    "    subprocess.run([\"rm\", \"-rf\", \"venv-pip\"], shell=True)\n",
    "    time_cmd([\"python3\", \"-m\", \"venv\", \"venv-pip\"])\n",
    "    t_pip = time_cmd([\"venv-pip/bin/pip\", \"install\", \"-r\", \"requirements.txt\"])\n",
    "    # pip warm\n",
    "    t_pip_warm = time_cmd([\"venv-pip/bin/pip\", \"install\", \"-r\", \"requirements.txt\"])\n",
    "    # uv kalt\n",
    "    subprocess.run([\"rm\", \"-rf\", \"venv-uv\"], shell=True)\n",
    "    time_cmd([\"python3\", \"-m\", \"venv\", \"venv-uv\"])\n",
    "    subprocess.run([\"venv-uv/bin/pip\", \"install\", \"uv\"], check=True)\n",
    "    t_uv = time_cmd([\"venv-uv/bin/uv\", \"pip\", \"sync\", \"requirements.txt\"])\n",
    "    # uv warm\n",
    "    t_uv_warm = time_cmd([\"venv-uv/bin/uv\", \"pip\", \"sync\", \"requirements.txt\"])\n",
    "    \n",
    "    results.append({\n",
    "        \"tool\":\"pip\",\"mode\":\"cold\",\"time\":t_pip\n",
    "    })\n",
    "    results.append({\n",
    "        \"tool\":\"pip\",\"mode\":\"warm\",\"time\":t_pip_warm\n",
    "    })\n",
    "    results.append({\n",
    "        \"tool\":\"uv\",\"mode\":\"cold\",\"time\":t_uv\n",
    "    })\n",
    "    results.append({\n",
    "        \"tool\":\"uv\",\"mode\":\"warm\",\"time\":t_uv_warm\n",
    "    })\n",
    "\n",
    "df = pd.DataFrame(results)\n",
    "print(df.groupby([\"tool\",\"mode\"])[\"time\"].agg([\"mean\",\"std\"]))\n"
   ]
  },
  {
   "cell_type": "markdown",
   "id": "2935dd0a",
   "metadata": {},
   "source": [
    "## Ergebnisse und Fazit\n",
    "\n"
   ]
  },
  {
   "cell_type": "markdown",
   "id": "90555b11",
   "metadata": {},
   "source": []
  }
 ],
 "metadata": {
  "kernelspec": {
   "display_name": "env_name",
   "language": "python",
   "name": "python3"
  },
  "language_info": {
   "codemirror_mode": {
    "name": "ipython",
    "version": 3
   },
   "file_extension": ".py",
   "mimetype": "text/x-python",
   "name": "python",
   "nbconvert_exporter": "python",
   "pygments_lexer": "ipython3",
   "version": "3.12.0"
  }
 },
 "nbformat": 4,
 "nbformat_minor": 5
}
